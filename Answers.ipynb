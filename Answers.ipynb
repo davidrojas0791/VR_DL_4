{
 "cells": [
  {
   "cell_type": "code",
   "execution_count": 1,
   "id": "9df8a3f5",
   "metadata": {},
   "outputs": [],
   "source": [
    "# Generic python libraries\n",
    "import os\n",
    "import math\n",
    "import random\n",
    "from PIL import Image\n",
    "from pathlib import Path\n",
    "from random import sample\n",
    "from skimage.transform import rotate\n",
    "from skimage.draw import rectangle_perimeter\n",
    "from skimage import io, transform, util, color, img_as_uint, img_as_ubyte\n",
    "\n",
    "\n",
    "# PyTorch and numpy related\n",
    "import torch\n",
    "import torchvision\n",
    "import numpy as np\n",
    "import torch.nn as nn\n",
    "import torch.optim as optim\n",
    "import torchgeometry as tgm\n",
    "import torch.nn.functional as F\n",
    "from torchvision import transforms\n",
    "from torchvision.datasets.vision import VisionDataset\n",
    "from torch.utils.data import Dataset, DataLoader, random_split\n",
    "from torchvision.models.segmentation.deeplabv3 import DeepLabHead\n",
    "from torchvision.models.segmentation import fcn_resnet50, deeplabv3_resnet50"
   ]
  },
  {
   "cell_type": "code",
   "execution_count": 2,
   "id": "5b32b567",
   "metadata": {},
   "outputs": [],
   "source": [
    "def toUINT8(image):     \n",
    "    image[image<0]=0\n",
    "    image[image>255]=255\n",
    "#     image[((image>0) & (image<=42))] = 0\n",
    "#     image[((image>42) & (image<85))] = 85\n",
    "#     image[((image>85) & (image<=127))] = 85\n",
    "#     image[((image>127) & (image<170))] = 170\n",
    "#     image[((image>170) & (image<=212))] = 170\n",
    "#     image[((image>212) & (image<255))] = 255\n",
    "    image = image.astype(np.uint8, copy=False)\n",
    "    return image"
   ]
  },
  {
   "cell_type": "code",
   "execution_count": 3,
   "id": "d21a457a",
   "metadata": {},
   "outputs": [],
   "source": [
    "def rotate_and_save(img, mask_img, angle, img_filename, mask_filename):\n",
    "    img = rotate(img,angle,resize=False,preserve_range=True)\n",
    "    mask_img = rotate(mask_img,angle,resize=False,preserve_range=True)\n",
    "    io.imsave(img_filename,toUINT8(img),check_contrast=False)\n",
    "    io.imsave(mask_filename,toUINT8(mask_img),check_contrast=False)\n"
   ]
  },
  {
   "cell_type": "code",
   "execution_count": 4,
   "id": "577401ca",
   "metadata": {},
   "outputs": [],
   "source": [
    "# # AUGMENT DATASET SECTION\n",
    "# ##  for Each Dataset type\n",
    "# ##  for Each image inside images folder \n",
    "# ##  Generate Single image with all masks overlapped\n",
    "# ##  Generate multiple variations of the images based on \n",
    "# ##  Rotations and axis flips\n",
    "\n",
    "# ROOT_DATASET_PATH = \"/home/humberto/src/Univ/DATASETS/SpermSegGS\"\n",
    "# DATASET_TYPES = [\"train\", \"test\"]\n",
    "# MASK_FOLDERS = [\"Head-Masks\", \"Midpiece-Masks\", \"Tail-Masks\"]\n",
    "# DESTINATION_BASE_FOLDER = \"Processed\"\n",
    "# ROTATION_ANGLES = range(0, 181, 5)\n",
    "# CLASS_COLOR_MAP = {0: 0, 1:85, 2:170, 3: 255}\n",
    "\n",
    "\n",
    "# for dataset_type in DATASET_TYPES:\n",
    "#     current_image_dir = os.path.join(ROOT_DATASET_PATH,'images',dataset_type)\n",
    "#     current_mask_dir = os.path.join(ROOT_DATASET_PATH,'mask')\n",
    "#     processed_image_path = os.path.join(ROOT_DATASET_PATH,DESTINATION_BASE_FOLDER,'images',dataset_type)\n",
    "#     processed_mask_image_path = os.path.join(ROOT_DATASET_PATH,DESTINATION_BASE_FOLDER,'mask',dataset_type)\n",
    "    \n",
    "#     Path(processed_image_path).mkdir(parents=True, exist_ok=True)\n",
    "#     Path(processed_mask_image_path).mkdir(parents=True, exist_ok=True)\n",
    "    \n",
    "#     image_file_list = os.listdir(current_image_dir)\n",
    "#     for image_file in image_file_list:\n",
    "#         image = toUINT8(io.imread(os.path.join(current_image_dir, image_file)))\n",
    "#         masks = []\n",
    "#         for current_mask in MASK_FOLDERS:\n",
    "#             masks.append(np.expand_dims(toUINT8(io.imread(os.path.join(current_mask_dir, current_mask, image_file))),axis=-1))\n",
    "#         background = np.ones(masks[0].shape,dtype=masks[0].dtype)*16\n",
    "#         joint_mask = np.argmax(np.concatenate((background,masks[0],masks[1],masks[2]),axis=-1),axis=-1)\n",
    "# #         joint_mask[joint_mask >= 0] = [CLASS_COLOR_MAP[x] for x in joint_mask[joint_mask >= 0]]\n",
    "        \n",
    "#         for angle in ROTATION_ANGLES:\n",
    "#             img_path = os.path.join(processed_image_path,str(angle)+\"_0_\"+image_file)\n",
    "#             mask_path = os.path.join(processed_mask_image_path,str(angle)+\"_0_\"+image_file.split(\".\")[0]+\".bmp\")\n",
    "#             rotate_and_save(image,joint_mask,angle,img_path,mask_path)\n",
    "\n",
    "#             v_image = np.flip(image, axis= 0)\n",
    "#             v_joint_mask = np.flip(joint_mask, axis= 0)\n",
    "#             img_path = os.path.join(processed_image_path,str(angle)+\"_V_\"+image_file)\n",
    "#             mask_path = os.path.join(processed_mask_image_path,str(angle)+\"_V_\"+image_file.split(\".\")[0]+\".bmp\")\n",
    "#             rotate_and_save(v_image,v_joint_mask,angle,img_path,mask_path)\n",
    "            \n",
    "            random\n",
    "#             h_image = np.flip(image, axis= 1)\n",
    "#             h_joint_mask = np.flip(joint_mask, axis= 1)\n",
    "#             img_path = os.path.join(processed_image_path,str(angle)+\"_H_\"+image_file)\n",
    "#             mask_path = os.path.join(processed_mask_image_path,str(angle)+\"_H_\"+image_file.split(\".\")[0]+\".bmp\")\n",
    "#             rotate_and_save(h_image,h_joint_mask,angle,img_path,mask_path)"
   ]
  },
  {
   "cell_type": "code",
   "execution_count": 4,
   "id": "1d4658a7",
   "metadata": {},
   "outputs": [],
   "source": [
    "class SegmentationDataset(VisionDataset):\n",
    "    def __init__(self,image_folder,mask_folder):\n",
    "        self.image_folder_path = image_folder\n",
    "        self.mask_folder_path = mask_folder\n",
    "        self.image_names = os.listdir(image_folder)\n",
    "        self.mask_names = os.listdir(mask_folder)\n",
    "        self.image_names.sort()\n",
    "        self.mask_names.sort()\n",
    "        \n",
    "        self.image_transform_pipeline = transforms.Compose([\n",
    "            transforms.Resize((580,780)),\n",
    "#             transforms.CenterCrop(500),\n",
    "            transforms.ToTensor(),\n",
    "            transforms.Normalize(mean=[0.485, 0.456, 0.406], std=[0.229, 0.224, 0.225])\n",
    "        ])\n",
    "        \n",
    "        self.mask_transform_pipeline = transforms.Compose([\n",
    "            transforms.Resize((580,780)),\n",
    "#             transforms.CenterCrop(500)\n",
    "        ])\n",
    "\n",
    "    def __len__(self):\n",
    "        return len(self.image_names)\n",
    "\n",
    "    def __getitem__(self, index):\n",
    "        image_path = os.path.join(self.image_folder_path,self.image_names[index])\n",
    "        mask_path = os.path.join(self.mask_folder_path,self.mask_names[index])\n",
    "        with open(image_path, \"rb\") as image_file, open(mask_path,\"rb\") as mask_file:\n",
    "            image = Image.open(image_file).convert(\"RGB\")\n",
    "            mask = Image.open(mask_file).convert(\"L\")\n",
    "            image = self.image_transform_pipeline(image)\n",
    "            mask = torch.as_tensor(toUINT8(np.array(self.mask_transform_pipeline(mask)))).unsqueeze(0)\n",
    "            return image, mask, index"
   ]
  },
  {
   "cell_type": "code",
   "execution_count": 5,
   "id": "64b3a69d",
   "metadata": {},
   "outputs": [],
   "source": [
    "TRAIN_IMAGE_FOLDER_PATH = \"/home/humberto/src/Univ/DATASETS/SpermSegGS/Processed/images/train\"\n",
    "TRAIN_MASK_FOLDER_PATH = \"/home/humberto/src/Univ/DATASETS/SpermSegGS/Processed/mask/train\"\n",
    "\n",
    "############################################################################################\n",
    "\n",
    "TEST_IMAGE_FOLDER_PATH = \"/home/humberto/src/Univ/DATASETS/SpermSegGS/Processed/images/test\"\n",
    "TEST_MASK_FOLDER_PATH = \"/home/humberto/src/Univ/DATASETS/SpermSegGS/Processed/mask/test\""
   ]
  },
  {
   "cell_type": "code",
   "execution_count": 6,
   "id": "6371f8ba",
   "metadata": {},
   "outputs": [],
   "source": [
    "train_dataset = SegmentationDataset(TRAIN_IMAGE_FOLDER_PATH,TRAIN_MASK_FOLDER_PATH)"
   ]
  },
  {
   "cell_type": "code",
   "execution_count": 65,
   "id": "7d2a546e",
   "metadata": {},
   "outputs": [
    {
     "data": {
      "text/plain": [
       "1665"
      ]
     },
     "execution_count": 65,
     "metadata": {},
     "output_type": "execute_result"
    }
   ],
   "source": [
    "len(train_dataset)"
   ]
  },
  {
   "cell_type": "code",
   "execution_count": 7,
   "id": "da79dbb6",
   "metadata": {},
   "outputs": [
    {
     "data": {
      "text/plain": [
       "tensor([0, 1, 2, 3], dtype=torch.uint8)"
      ]
     },
     "execution_count": 7,
     "metadata": {},
     "output_type": "execute_result"
    }
   ],
   "source": [
    "t_img_2 = train_dataset[350][1]\n",
    "t_img_2.unique()\n",
    "# t_img_2[t_img_2!= 0 | t_img_2!= 85 | t_img_2!= 170 | t_img_2!= 255] = 0\n",
    "# transforms.functional.to_pil_image(t_img_2).show()\n",
    "\n",
    "# for i in range(t_img_2.size()[1]):\n",
    "#     for j in range(t_img_2.size()[2]):\n",
    "#         print(i, j,t_img_2[0][i][j])\n",
    "        \n",
    "# print(t_img_2.unique(),t_img_2, t_img_2.size())"
   ]
  },
  {
   "cell_type": "code",
   "execution_count": 8,
   "id": "331fe952",
   "metadata": {},
   "outputs": [],
   "source": [
    "def BuildCustomDeeplab(num_classes, pretrained=True):\n",
    "    model = deeplabv3_resnet50(pretrained=pretrained)\n",
    "    model.classifier = DeepLabHead(2048, num_classes)\n",
    "    return model"
   ]
  },
  {
   "cell_type": "code",
   "execution_count": 74,
   "id": "dd4e0171",
   "metadata": {},
   "outputs": [],
   "source": [
    "def test(data, network, criterion, criterion2, device):\n",
    "    network.eval()\n",
    "    loss_c = 0\n",
    "    iou_c = 0\n",
    "    dice_loss_c = 0\n",
    "    flag = False\n",
    "    with torch.no_grad():\n",
    "        for input, target, idx in data:\n",
    "            input = input.to(device)\n",
    "            target = target.to(device).view(target.size()[0],target.size()[2],target.size()[3]).long()\n",
    "            output = model(input)[\"out\"]\n",
    "            normalized_masks = torch.nn.functional.softmax(output, dim=1)\n",
    "            class_argmax = normalized_masks.argmax(dim=1)\n",
    "            \n",
    "            iou_c += iou_pytorch(class_argmax,target).item()\n",
    "            dice_loss_c += criterion2(output,target).item()\n",
    "            loss_c += criterion(output,target).item()\n",
    "            \n",
    "            if not flag and random.random() < 0.3:\n",
    "                flag = True\n",
    "                \n",
    "                dog_and_boat_masks = [\n",
    "                    normalized_masks[img_idx, sem_class_to_idx[cls]]\n",
    "                        for img_idx in range(input.size()[0])\n",
    "                        for cls in ['__background__']\n",
    "                ]\n",
    "                \n",
    "                show(dog_and_boat_masks)\n",
    "                \n",
    "                dog_and_boat_masks = [\n",
    "                    normalized_masks[img_idx, sem_class_to_idx[cls]]\n",
    "                        for img_idx in range(input.size()[0])\n",
    "                        for cls in ['head']\n",
    "                ]\n",
    "                \n",
    "                show(dog_and_boat_masks)\n",
    "                \n",
    "                dog_and_boat_masks = [\n",
    "                    normalized_masks[img_idx, sem_class_to_idx[cls]]\n",
    "                        for img_idx in range(input.size()[0])\n",
    "                        for cls in ['body']\n",
    "                ]\n",
    "                \n",
    "                show(dog_and_boat_masks)\n",
    "                \n",
    "                dog_and_boat_masks = [\n",
    "                    normalized_masks[img_idx, sem_class_to_idx[cls]]\n",
    "                        for img_idx in range(input.size()[0])\n",
    "                        for cls in ['tail']\n",
    "                ]\n",
    "                \n",
    "                show(dog_and_boat_masks)\n",
    "    return loss_c, iou_c, dice_loss_c\n",
    "            \n",
    "def train(data, network, optimizer, criterion, criterion2, device):\n",
    "    network.train()\n",
    "    loss_c = 0\n",
    "    for input, target, idx in data:\n",
    "        input = input.to(device)\n",
    "        target = target.to(device).view(target.size()[0],target.size()[2],target.size()[3]).long()\n",
    "        optimizer.zero_grad()\n",
    "        output = network(input)[\"out\"]\n",
    "#         l1 = criterion(output, target)\n",
    "#         l2 = criterion2(output, target)\n",
    "#         loss = (0.8 * l1) + (0.2 * l2)\n",
    "        loss = criterion(output, target)\n",
    "        loss_c += loss.item()\n",
    "        loss.backward()\n",
    "        optimizer.step()\n",
    "    return loss_c"
   ]
  },
  {
   "cell_type": "code",
   "execution_count": 11,
   "id": "5a1d050f",
   "metadata": {},
   "outputs": [],
   "source": [
    "def run_train_epochs(network, train_dataset, optimizer, criterion, criterion2=None, scheduler=None, epochs=10, batch_size=5, device='cuda', collate=None):\n",
    "    network.to(device)\n",
    "    train_data = DataLoader(train_dataset,batch_size=batch_size,shuffle=True,collate_fn=collate)\n",
    "    train_loss, train_acc = [], []\n",
    "    for e in range(1,epochs+1):\n",
    "        temp_train_loss = train(train_data, network, optimizer, criterion, criterion2, device)\n",
    "        train_loss.append(temp_train_loss/len(train_dataset)*batch_size)\n",
    "        print(f\"Epoch: {e} \\n Train | loss: {train_loss[-1]:.5f} \")"
   ]
  },
  {
   "cell_type": "code",
   "execution_count": 12,
   "id": "ddee664e",
   "metadata": {},
   "outputs": [],
   "source": [
    "def run_test_epochs(network, test_dataset, criterion, criterion2=None, batch_size=5, device='cuda', collate=None):\n",
    "    network.to(device)\n",
    "    test_data = DataLoader(test_dataset,batch_size=batch_size,shuffle=True,collate_fn=collate)\n",
    "    test_loss, test_iou, test_dice = test(test_data,network,criterion,criterion2,device)\n",
    "    \n",
    "    test_loss = test_loss/len(test_dataset)*batch_size\n",
    "    test_iou = test_iou/len(test_dataset)*batch_size\n",
    "    test_dice = test_dice/len(test_dataset)*batch_size\n",
    "    \n",
    "    print(f\"TEST | loss: {test_loss:.5f} | IoU: {test_iou:.5f} | Dice: {test_dice:.5f}\")       "
   ]
  },
  {
   "cell_type": "code",
   "execution_count": 12,
   "id": "4869e76d",
   "metadata": {},
   "outputs": [],
   "source": [
    "# criterion = nn.CrossEntropyLoss()\n",
    "# criterion2 = tgm.losses.DiceLoss()\n",
    "# model = BuildCustomDeeplab(4, True)\n",
    "# optimizer = optim.AdamW(model.parameters(), lr=1e-3)"
   ]
  },
  {
   "cell_type": "code",
   "execution_count": 13,
   "id": "96d4b2f2",
   "metadata": {
    "scrolled": true
   },
   "outputs": [
    {
     "name": "stderr",
     "output_type": "stream",
     "text": [
      "/home/humberto/miniconda3/envs/ttest/lib/python3.8/site-packages/torch/nn/functional.py:718: UserWarning: Named tensors and all their associated APIs are an experimental feature and subject to change. Please do not use them for anything important until they are released as stable. (Triggered internally at  /opt/conda/conda-bld/pytorch_1623448278899/work/c10/core/TensorImpl.h:1156.)\n",
      "  return torch.max_pool2d(input, kernel_size, stride, padding, dilation, ceil_mode)\n"
     ]
    },
    {
     "name": "stdout",
     "output_type": "stream",
     "text": [
      "Epoch: 1 \n",
      " Train | loss: 0.09639 \n",
      "Epoch: 2 \n",
      " Train | loss: 0.04380 \n",
      "Epoch: 3 \n",
      " Train | loss: 0.03999 \n",
      "Epoch: 4 \n",
      " Train | loss: 0.03756 \n",
      "Epoch: 5 \n",
      " Train | loss: 0.03561 \n",
      "Epoch: 6 \n",
      " Train | loss: 0.03487 \n",
      "Epoch: 7 \n",
      " Train | loss: 0.03392 \n",
      "Epoch: 8 \n",
      " Train | loss: 0.03258 \n",
      "Epoch: 9 \n",
      " Train | loss: 0.03189 \n",
      "Epoch: 10 \n",
      " Train | loss: 0.03142 \n"
     ]
    }
   ],
   "source": [
    "# run_epochs(model,train_dataset,None,optimizer,criterion,criterion2)"
   ]
  },
  {
   "cell_type": "code",
   "execution_count": 14,
   "id": "cebd7424",
   "metadata": {},
   "outputs": [],
   "source": [
    "# torch.save(model,\"model_trained_25_without_colors_deeplabv3.pt\")"
   ]
  },
  {
   "cell_type": "code",
   "execution_count": 15,
   "id": "0ef06a69",
   "metadata": {},
   "outputs": [],
   "source": [
    "# torch.save(model,\"deeplabv3_batch5_epochs10_normalized_pretrained.pt\")"
   ]
  },
  {
   "cell_type": "code",
   "execution_count": 149,
   "id": "41baa1fa",
   "metadata": {},
   "outputs": [],
   "source": [
    "model = torch.load(\"deeplabv3_batch5_epochs10_unnormalized_notpretrained.pt\")"
   ]
  },
  {
   "cell_type": "code",
   "execution_count": 150,
   "id": "3c349f29",
   "metadata": {},
   "outputs": [],
   "source": [
    "import matplotlib.pyplot as plt\n",
    "# plt.rcParams[\"savefig.bbox\"] = 'tight'\n",
    "\n",
    "def show(imgs):\n",
    "    if not isinstance(imgs, list):\n",
    "        imgs = [imgs]\n",
    "    fix, axs = plt.subplots(ncols=len(imgs), squeeze=False,figsize=(10.0,10.0))\n",
    "    for i, img in enumerate(imgs):\n",
    "        img = img.detach()\n",
    "        img = transforms.functional.to_pil_image(img)\n",
    "        axs[0, i].imshow(np.asarray(img))\n",
    "        axs[0, i].set(xticklabels=[], yticklabels=[], xticks=[], yticks=[])"
   ]
  },
  {
   "cell_type": "code",
   "execution_count": 151,
   "id": "d8d84b8a",
   "metadata": {},
   "outputs": [],
   "source": [
    "test_dataset = SegmentationDataset(TEST_IMAGE_FOLDER_PATH,TEST_MASK_FOLDER_PATH)"
   ]
  },
  {
   "cell_type": "code",
   "execution_count": 152,
   "id": "500bb6ae",
   "metadata": {},
   "outputs": [
    {
     "data": {
      "text/plain": [
       "444"
      ]
     },
     "execution_count": 152,
     "metadata": {},
     "output_type": "execute_result"
    }
   ],
   "source": [
    "len(test_dataset)"
   ]
  },
  {
   "cell_type": "code",
   "execution_count": 153,
   "id": "d6994e97",
   "metadata": {},
   "outputs": [],
   "source": [
    "sem_classes = ['__background__', 'head', 'body', 'tail']\n",
    "sem_class_to_idx = {cls: idx for (idx, cls) in enumerate(sem_classes)}"
   ]
  },
  {
   "cell_type": "code",
   "execution_count": 154,
   "id": "1bc200a0",
   "metadata": {},
   "outputs": [],
   "source": [
    "SMOOTH = 1e-6\n",
    "\n",
    "def iou_pytorch(outputs: torch.Tensor, labels: torch.Tensor):\n",
    "    # You can comment out this line if you are passing tensors of equal shape\n",
    "    # But if you are passing output from UNet or something it will most probably\n",
    "    # be with the BATCH x 1 x H x W shape\n",
    "    outputs = outputs.squeeze(1)  # BATCH x 1 x H x W => BATCH x H x W\n",
    "#     print(outputs.size(), labels.size())\n",
    "    \n",
    "    intersection = (outputs & labels).float().sum((1, 2))  # Will be zero if Truth=0 or Prediction=0\n",
    "#     print(\"Int\", intersection)\n",
    "    union = (outputs | labels).float().sum((1, 2))         # Will be zzero if both are 0\n",
    "#     print(\"Uni\", union)\n",
    "    iou = (intersection + SMOOTH) / (union + SMOOTH)  # We smooth our devision to avoid 0/0\n",
    "    return iou.mean() "
   ]
  },
  {
   "cell_type": "code",
   "execution_count": 155,
   "id": "920fefdd",
   "metadata": {
    "scrolled": false
   },
   "outputs": [
    {
     "name": "stdout",
     "output_type": "stream",
     "text": [
      "TEST | loss: 0.81401 | IoU: 0.00000 | Dice: 0.02474\n"
     ]
    },
    {
     "data": {
      "image/png": "[encoded data removed]",
      "text/plain": [
       "<Figure size 720x720 with 1 Axes>"
      ]
     },
     "metadata": {},
     "output_type": "display_data"
    },
    {
     "data": {
      "image/png": "[encoded data removed]",
      "text/plain": [
       "<Figure size 720x720 with 1 Axes>"
      ]
     },
     "metadata": {},
     "output_type": "display_data"
    },
    {
     "data": {
      "image/png": "[encoded data removed]",
      "text/plain": [
       "<Figure size 720x720 with 1 Axes>"
      ]
     },
     "metadata": {},
     "output_type": "display_data"
    },
    {
     "data": {
      "image/png": "[encoded data removed]",
      "text/plain": [
       "<Figure size 720x720 with 1 Axes>"
      ]
     },
     "metadata": {},
     "output_type": "display_data"
    }
   ],
   "source": [
    "criterion = nn.CrossEntropyLoss()\n",
    "criterion2 = tgm.losses.DiceLoss()\n",
    "run_test_epochs(model,test_dataset,criterion,criterion2,batch_size=1)"
   ]
  },
  {
   "cell_type": "code",
   "execution_count": 166,
   "id": "9f8c62f0",
   "metadata": {},
   "outputs": [],
   "source": [
    "import plotly.graph_objects as go"
   ]
  },
  {
   "cell_type": "code",
   "execution_count": 167,
   "id": "a32c1155",
   "metadata": {},
   "outputs": [],
   "source": [
    "def create_figure():\n",
    "  return go.Figure()\n",
    "  \n",
    "def plot_figure(fig, chart_data, title, x_title, y_title):  \n",
    "\n",
    "  for dataset in chart_data:\n",
    "    y_axis = [float(x) for x in dataset['y_data']]\n",
    "    fig.add_scatter(\n",
    "      y=y_axis,\n",
    "      x=[x+1 for x in range(len(y_axis))],\n",
    "      mode=\"lines+markers\", \n",
    "      textposition=\"bottom center\",\n",
    "      name=dataset['label'],\n",
    "      line={\"color\": dataset['color'], \"width\": 1}\n",
    "    )\n",
    "\n",
    "  fig.update_layout(\n",
    "    title=title,\n",
    "    width=1024,\n",
    "    height=400,\n",
    "    xaxis={\"title\": x_title},\n",
    "    yaxis={\"title\": y_title, \"tickformat\": \".2f\"},\n",
    "    font=dict(\n",
    "      family=\"Courier New, monospace\",\n",
    "      size=14,\n",
    "      color=\"#7f7f7f\"\n",
    "    )\n",
    "  )"
   ]
  },
  {
   "cell_type": "code",
   "execution_count": 168,
   "id": "62e7386e",
   "metadata": {},
   "outputs": [],
   "source": [
    "fig = create_figure()"
   ]
  },
  {
   "cell_type": "code",
   "execution_count": 169,
   "id": "b8dd47ae",
   "metadata": {},
   "outputs": [],
   "source": [
    "plot_figure(fig, [{\"label\":\"Train Loss\", \"color\": \"#00f\", \"y_data\": [0.08775,0.04274,0.03858,0.03645,0.03441,0.03300,0.03397,0.03278,0.03161,0.03116]}], \"Loss Chart\", \"Epochs\", \"Value\")"
   ]
  },
  {
   "cell_type": "code",
   "execution_count": 170,
   "id": "8bd8a9f5",
   "metadata": {},
   "outputs": [
    {
     "data": {
      "application/vnd.plotly.v1+json": {
       "config": {
        "plotlyServerURL": "https://plot.ly"
       },
       "data": [
        {
         "line": {
          "color": "#00f",
          "width": 1
         },
         "mode": "lines+markers",
         "name": "Train Loss",
         "textposition": "bottom center",
         "type": "scatter",
         "x": [
          1,
          2,
          3,
          4,
          5,
          6,
          7,
          8,
          9,
          10
         ],
         "y": [
          0.08775,
          0.04274,
          0.03858,
          0.03645,
          0.03441,
          0.033,
          0.03397,
          0.03278,
          0.03161,
          0.03116
         ]
        }
       ],
       "layout": {
        "font": {
         "color": "#7f7f7f",
         "family": "Courier New, monospace",
         "size": 14
        },
        "height": 400,
        "template": {
         "data": {
          "bar": [
           {
            "error_x": {
             "color": "#2a3f5f"
            },
            "error_y": {
             "color": "#2a3f5f"
            },
            "marker": {
             "line": {
              "color": "#E5ECF6",
              "width": 0.5
             },
             "pattern": {
              "fillmode": "overlay",
              "size": 10,
              "solidity": 0.2
             }
            },
            "type": "bar"
           }
          ],
          "barpolar": [
           {
            "marker": {
             "line": {
              "color": "#E5ECF6",
              "width": 0.5
             },
             "pattern": {
              "fillmode": "overlay",
              "size": 10,
              "solidity": 0.2
             }
            },
            "type": "barpolar"
           }
          ],
          "carpet": [
           {
            "aaxis": {
             "endlinecolor": "#2a3f5f",
             "gridcolor": "white",
             "linecolor": "white",
             "minorgridcolor": "white",
             "startlinecolor": "#2a3f5f"
            },
            "baxis": {
             "endlinecolor": "#2a3f5f",
             "gridcolor": "white",
             "linecolor": "white",
             "minorgridcolor": "white",
             "startlinecolor": "#2a3f5f"
            },
            "type": "carpet"
           }
          ],
          "choropleth": [
           {
            "colorbar": {
             "outlinewidth": 0,
             "ticks": ""
            },
            "type": "choropleth"
           }
          ],
          "contour": [
           {
            "colorbar": {
             "outlinewidth": 0,
             "ticks": ""
            },
            "colorscale": [
             [
              0,
              "#0d0887"
             ],
             [
              0.1111111111111111,
              "#46039f"
             ],
             [
              0.2222222222222222,
              "#7201a8"
             ],
             [
              0.3333333333333333,
              "#9c179e"
             ],
             [
              0.4444444444444444,
              "#bd3786"
             ],
             [
              0.5555555555555556,
              "#d8576b"
             ],
             [
              0.6666666666666666,
              "#ed7953"
             ],
             [
              0.7777777777777778,
              "#fb9f3a"
             ],
             [
              0.8888888888888888,
              "#fdca26"
             ],
             [
              1,
              "#f0f921"
             ]
            ],
            "type": "contour"
           }
          ],
          "contourcarpet": [
           {
            "colorbar": {
             "outlinewidth": 0,
             "ticks": ""
            },
            "type": "contourcarpet"
           }
          ],
          "heatmap": [
           {
            "colorbar": {
             "outlinewidth": 0,
             "ticks": ""
            },
            "colorscale": [
             [
              0,
              "#0d0887"
             ],
             [
              0.1111111111111111,
              "#46039f"
             ],
             [
              0.2222222222222222,
              "#7201a8"
             ],
             [
              0.3333333333333333,
              "#9c179e"
             ],
             [
              0.4444444444444444,
              "#bd3786"
             ],
             [
              0.5555555555555556,
              "#d8576b"
             ],
             [
              0.6666666666666666,
              "#ed7953"
             ],
             [
              0.7777777777777778,
              "#fb9f3a"
             ],
             [
              0.8888888888888888,
              "#fdca26"
             ],
             [
              1,
              "#f0f921"
             ]
            ],
            "type": "heatmap"
           }
          ],
          "heatmapgl": [
           {
            "colorbar": {
             "outlinewidth": 0,
             "ticks": ""
            },
            "colorscale": [
             [
              0,
              "#0d0887"
             ],
             [
              0.1111111111111111,
              "#46039f"
             ],
             [
              0.2222222222222222,
              "#7201a8"
             ],
             [
              0.3333333333333333,
              "#9c179e"
             ],
             [
              0.4444444444444444,
              "#bd3786"
             ],
             [
              0.5555555555555556,
              "#d8576b"
             ],
             [
              0.6666666666666666,
              "#ed7953"
             ],
             [
              0.7777777777777778,
              "#fb9f3a"
             ],
             [
              0.8888888888888888,
              "#fdca26"
             ],
             [
              1,
              "#f0f921"
             ]
            ],
            "type": "heatmapgl"
           }
          ],
          "histogram": [
           {
            "marker": {
             "pattern": {
              "fillmode": "overlay",
              "size": 10,
              "solidity": 0.2
             }
            },
            "type": "histogram"
           }
          ],
          "histogram2d": [
           {
            "colorbar": {
             "outlinewidth": 0,
             "ticks": ""
            },
            "colorscale": [
             [
              0,
              "#0d0887"
             ],
             [
              0.1111111111111111,
              "#46039f"
             ],
             [
              0.2222222222222222,
              "#7201a8"
             ],
             [
              0.3333333333333333,
              "#9c179e"
             ],
             [
              0.4444444444444444,
              "#bd3786"
             ],
             [
              0.5555555555555556,
              "#d8576b"
             ],
             [
              0.6666666666666666,
              "#ed7953"
             ],
             [
              0.7777777777777778,
              "#fb9f3a"
             ],
             [
              0.8888888888888888,
              "#fdca26"
             ],
             [
              1,
              "#f0f921"
             ]
            ],
            "type": "histogram2d"
           }
          ],
          "histogram2dcontour": [
           {
            "colorbar": {
             "outlinewidth": 0,
             "ticks": ""
            },
            "colorscale": [
             [
              0,
              "#0d0887"
             ],
             [
              0.1111111111111111,
              "#46039f"
             ],
             [
              0.2222222222222222,
              "#7201a8"
             ],
             [
              0.3333333333333333,
              "#9c179e"
             ],
             [
              0.4444444444444444,
              "#bd3786"
             ],
             [
              0.5555555555555556,
              "#d8576b"
             ],
             [
              0.6666666666666666,
              "#ed7953"
             ],
             [
              0.7777777777777778,
              "#fb9f3a"
             ],
             [
              0.8888888888888888,
              "#fdca26"
             ],
             [
              1,
              "#f0f921"
             ]
            ],
            "type": "histogram2dcontour"
           }
          ],
          "mesh3d": [
           {
            "colorbar": {
             "outlinewidth": 0,
             "ticks": ""
            },
            "type": "mesh3d"
           }
          ],
          "parcoords": [
           {
            "line": {
             "colorbar": {
              "outlinewidth": 0,
              "ticks": ""
             }
            },
            "type": "parcoords"
           }
          ],
          "pie": [
           {
            "automargin": true,
            "type": "pie"
           }
          ],
          "scatter": [
           {
            "marker": {
             "colorbar": {
              "outlinewidth": 0,
              "ticks": ""
             }
            },
            "type": "scatter"
           }
          ],
          "scatter3d": [
           {
            "line": {
             "colorbar": {
              "outlinewidth": 0,
              "ticks": ""
             }
            },
            "marker": {
             "colorbar": {
              "outlinewidth": 0,
              "ticks": ""
             }
            },
            "type": "scatter3d"
           }
          ],
          "scattercarpet": [
           {
            "marker": {
             "colorbar": {
              "outlinewidth": 0,
              "ticks": ""
             }
            },
            "type": "scattercarpet"
           }
          ],
          "scattergeo": [
           {
            "marker": {
             "colorbar": {
              "outlinewidth": 0,
              "ticks": ""
             }
            },
            "type": "scattergeo"
           }
          ],
          "scattergl": [
           {
            "marker": {
             "colorbar": {
              "outlinewidth": 0,
              "ticks": ""
             }
            },
            "type": "scattergl"
           }
          ],
          "scattermapbox": [
           {
            "marker": {
             "colorbar": {
              "outlinewidth": 0,
              "ticks": ""
             }
            },
            "type": "scattermapbox"
           }
          ],
          "scatterpolar": [
           {
            "marker": {
             "colorbar": {
              "outlinewidth": 0,
              "ticks": ""
             }
            },
            "type": "scatterpolar"
           }
          ],
          "scatterpolargl": [
           {
            "marker": {
             "colorbar": {
              "outlinewidth": 0,
              "ticks": ""
             }
            },
            "type": "scatterpolargl"
           }
          ],
          "scatterternary": [
           {
            "marker": {
             "colorbar": {
              "outlinewidth": 0,
              "ticks": ""
             }
            },
            "type": "scatterternary"
           }
          ],
          "surface": [
           {
            "colorbar": {
             "outlinewidth": 0,
             "ticks": ""
            },
            "colorscale": [
             [
              0,
              "#0d0887"
             ],
             [
              0.1111111111111111,
              "#46039f"
             ],
             [
              0.2222222222222222,
              "#7201a8"
             ],
             [
              0.3333333333333333,
              "#9c179e"
             ],
             [
              0.4444444444444444,
              "#bd3786"
             ],
             [
              0.5555555555555556,
              "#d8576b"
             ],
             [
              0.6666666666666666,
              "#ed7953"
             ],
             [
              0.7777777777777778,
              "#fb9f3a"
             ],
             [
              0.8888888888888888,
              "#fdca26"
             ],
             [
              1,
              "#f0f921"
             ]
            ],
            "type": "surface"
           }
          ],
          "table": [
           {
            "cells": {
             "fill": {
              "color": "#EBF0F8"
             },
             "line": {
              "color": "white"
             }
            },
            "header": {
             "fill": {
              "color": "#C8D4E3"
             },
             "line": {
              "color": "white"
             }
            },
            "type": "table"
           }
          ]
         },
         "layout": {
          "annotationdefaults": {
           "arrowcolor": "#2a3f5f",
           "arrowhead": 0,
           "arrowwidth": 1
          },
          "autotypenumbers": "strict",
          "coloraxis": {
           "colorbar": {
            "outlinewidth": 0,
            "ticks": ""
           }
          },
          "colorscale": {
           "diverging": [
            [
             0,
             "#8e0152"
            ],
            [
             0.1,
             "#c51b7d"
            ],
            [
             0.2,
             "#de77ae"
            ],
            [
             0.3,
             "#f1b6da"
            ],
            [
             0.4,
             "#fde0ef"
            ],
            [
             0.5,
             "#f7f7f7"
            ],
            [
             0.6,
             "#e6f5d0"
            ],
            [
             0.7,
             "#b8e186"
            ],
            [
             0.8,
             "#7fbc41"
            ],
            [
             0.9,
             "#4d9221"
            ],
            [
             1,
             "#276419"
            ]
           ],
           "sequential": [
            [
             0,
             "#0d0887"
            ],
            [
             0.1111111111111111,
             "#46039f"
            ],
            [
             0.2222222222222222,
             "#7201a8"
            ],
            [
             0.3333333333333333,
             "#9c179e"
            ],
            [
             0.4444444444444444,
             "#bd3786"
            ],
            [
             0.5555555555555556,
             "#d8576b"
            ],
            [
             0.6666666666666666,
             "#ed7953"
            ],
            [
             0.7777777777777778,
             "#fb9f3a"
            ],
            [
             0.8888888888888888,
             "#fdca26"
            ],
            [
             1,
             "#f0f921"
            ]
           ],
           "sequentialminus": [
            [
             0,
             "#0d0887"
            ],
            [
             0.1111111111111111,
             "#46039f"
            ],
            [
             0.2222222222222222,
             "#7201a8"
            ],
            [
             0.3333333333333333,
             "#9c179e"
            ],
            [
             0.4444444444444444,
             "#bd3786"
            ],
            [
             0.5555555555555556,
             "#d8576b"
            ],
            [
             0.6666666666666666,
             "#ed7953"
            ],
            [
             0.7777777777777778,
             "#fb9f3a"
            ],
            [
             0.8888888888888888,
             "#fdca26"
            ],
            [
             1,
             "#f0f921"
            ]
           ]
          },
          "colorway": [
           "#636efa",
           "#EF553B",
           "#00cc96",
           "#ab63fa",
           "#FFA15A",
           "#19d3f3",
           "#FF6692",
           "#B6E880",
           "#FF97FF",
           "#FECB52"
          ],
          "font": {
           "color": "#2a3f5f"
          },
          "geo": {
           "bgcolor": "white",
           "lakecolor": "white",
           "landcolor": "#E5ECF6",
           "showlakes": true,
           "showland": true,
           "subunitcolor": "white"
          },
          "hoverlabel": {
           "align": "left"
          },
          "hovermode": "closest",
          "mapbox": {
           "style": "light"
          },
          "paper_bgcolor": "white",
          "plot_bgcolor": "#E5ECF6",
          "polar": {
           "angularaxis": {
            "gridcolor": "white",
            "linecolor": "white",
            "ticks": ""
           },
           "bgcolor": "#E5ECF6",
           "radialaxis": {
            "gridcolor": "white",
            "linecolor": "white",
            "ticks": ""
           }
          },
          "scene": {
           "xaxis": {
            "backgroundcolor": "#E5ECF6",
            "gridcolor": "white",
            "gridwidth": 2,
            "linecolor": "white",
            "showbackground": true,
            "ticks": "",
            "zerolinecolor": "white"
           },
           "yaxis": {
            "backgroundcolor": "#E5ECF6",
            "gridcolor": "white",
            "gridwidth": 2,
            "linecolor": "white",
            "showbackground": true,
            "ticks": "",
            "zerolinecolor": "white"
           },
           "zaxis": {
            "backgroundcolor": "#E5ECF6",
            "gridcolor": "white",
            "gridwidth": 2,
            "linecolor": "white",
            "showbackground": true,
            "ticks": "",
            "zerolinecolor": "white"
           }
          },
          "shapedefaults": {
           "line": {
            "color": "#2a3f5f"
           }
          },
          "ternary": {
           "aaxis": {
            "gridcolor": "white",
            "linecolor": "white",
            "ticks": ""
           },
           "baxis": {
            "gridcolor": "white",
            "linecolor": "white",
            "ticks": ""
           },
           "bgcolor": "#E5ECF6",
           "caxis": {
            "gridcolor": "white",
            "linecolor": "white",
            "ticks": ""
           }
          },
          "title": {
           "x": 0.05
          },
          "xaxis": {
           "automargin": true,
           "gridcolor": "white",
           "linecolor": "white",
           "ticks": "",
           "title": {
            "standoff": 15
           },
           "zerolinecolor": "white",
           "zerolinewidth": 2
          },
          "yaxis": {
           "automargin": true,
           "gridcolor": "white",
           "linecolor": "white",
           "ticks": "",
           "title": {
            "standoff": 15
           },
           "zerolinecolor": "white",
           "zerolinewidth": 2
          }
         }
        },
        "title": {
         "text": "Loss Chart"
        },
        "width": 1024,
        "xaxis": {
         "title": {
          "text": "Epochs"
         }
        },
        "yaxis": {
         "tickformat": ".2f",
         "title": {
          "text": "Value"
         }
        }
       }
      },
      "text/html": [
       "<div>                            <div id=\"d9f0c329-1ef2-4f55-a548-39f1531f3ae4\" class=\"plotly-graph-div\" style=\"height:400px; width:1024px;\"></div>            <script type=\"text/javascript\">                require([\"plotly\"], function(Plotly) {                    window.PLOTLYENV=window.PLOTLYENV || {};                                    if (document.getElementById(\"d9f0c329-1ef2-4f55-a548-39f1531f3ae4\")) {                    Plotly.newPlot(                        \"d9f0c329-1ef2-4f55-a548-39f1531f3ae4\",                        [{\"line\":{\"color\":\"#00f\",\"width\":1},\"mode\":\"lines+markers\",\"name\":\"Train Loss\",\"textposition\":\"bottom center\",\"type\":\"scatter\",\"x\":[1,2,3,4,5,6,7,8,9,10],\"y\":[0.08775,0.04274,0.03858,0.03645,0.03441,0.033,0.03397,0.03278,0.03161,0.03116]}],                        {\"font\":{\"color\":\"#7f7f7f\",\"family\":\"Courier New, monospace\",\"size\":14},\"height\":400,\"template\":{\"data\":{\"bar\":[{\"error_x\":{\"color\":\"#2a3f5f\"},\"error_y\":{\"color\":\"#2a3f5f\"},\"marker\":{\"line\":{\"color\":\"#E5ECF6\",\"width\":0.5},\"pattern\":{\"fillmode\":\"overlay\",\"size\":10,\"solidity\":0.2}},\"type\":\"bar\"}],\"barpolar\":[{\"marker\":{\"line\":{\"color\":\"#E5ECF6\",\"width\":0.5},\"pattern\":{\"fillmode\":\"overlay\",\"size\":10,\"solidity\":0.2}},\"type\":\"barpolar\"}],\"carpet\":[{\"aaxis\":{\"endlinecolor\":\"#2a3f5f\",\"gridcolor\":\"white\",\"linecolor\":\"white\",\"minorgridcolor\":\"white\",\"startlinecolor\":\"#2a3f5f\"},\"baxis\":{\"endlinecolor\":\"#2a3f5f\",\"gridcolor\":\"white\",\"linecolor\":\"white\",\"minorgridcolor\":\"white\",\"startlinecolor\":\"#2a3f5f\"},\"type\":\"carpet\"}],\"choropleth\":[{\"colorbar\":{\"outlinewidth\":0,\"ticks\":\"\"},\"type\":\"choropleth\"}],\"contour\":[{\"colorbar\":{\"outlinewidth\":0,\"ticks\":\"\"},\"colorscale\":[[0.0,\"#0d0887\"],[0.1111111111111111,\"#46039f\"],[0.2222222222222222,\"#7201a8\"],[0.3333333333333333,\"#9c179e\"],[0.4444444444444444,\"#bd3786\"],[0.5555555555555556,\"#d8576b\"],[0.6666666666666666,\"#ed7953\"],[0.7777777777777778,\"#fb9f3a\"],[0.8888888888888888,\"#fdca26\"],[1.0,\"#f0f921\"]],\"type\":\"contour\"}],\"contourcarpet\":[{\"colorbar\":{\"outlinewidth\":0,\"ticks\":\"\"},\"type\":\"contourcarpet\"}],\"heatmap\":[{\"colorbar\":{\"outlinewidth\":0,\"ticks\":\"\"},\"colorscale\":[[0.0,\"#0d0887\"],[0.1111111111111111,\"#46039f\"],[0.2222222222222222,\"#7201a8\"],[0.3333333333333333,\"#9c179e\"],[0.4444444444444444,\"#bd3786\"],[0.5555555555555556,\"#d8576b\"],[0.6666666666666666,\"#ed7953\"],[0.7777777777777778,\"#fb9f3a\"],[0.8888888888888888,\"#fdca26\"],[1.0,\"#f0f921\"]],\"type\":\"heatmap\"}],\"heatmapgl\":[{\"colorbar\":{\"outlinewidth\":0,\"ticks\":\"\"},\"colorscale\":[[0.0,\"#0d0887\"],[0.1111111111111111,\"#46039f\"],[0.2222222222222222,\"#7201a8\"],[0.3333333333333333,\"#9c179e\"],[0.4444444444444444,\"#bd3786\"],[0.5555555555555556,\"#d8576b\"],[0.6666666666666666,\"#ed7953\"],[0.7777777777777778,\"#fb9f3a\"],[0.8888888888888888,\"#fdca26\"],[1.0,\"#f0f921\"]],\"type\":\"heatmapgl\"}],\"histogram\":[{\"marker\":{\"pattern\":{\"fillmode\":\"overlay\",\"size\":10,\"solidity\":0.2}},\"type\":\"histogram\"}],\"histogram2d\":[{\"colorbar\":{\"outlinewidth\":0,\"ticks\":\"\"},\"colorscale\":[[0.0,\"#0d0887\"],[0.1111111111111111,\"#46039f\"],[0.2222222222222222,\"#7201a8\"],[0.3333333333333333,\"#9c179e\"],[0.4444444444444444,\"#bd3786\"],[0.5555555555555556,\"#d8576b\"],[0.6666666666666666,\"#ed7953\"],[0.7777777777777778,\"#fb9f3a\"],[0.8888888888888888,\"#fdca26\"],[1.0,\"#f0f921\"]],\"type\":\"histogram2d\"}],\"histogram2dcontour\":[{\"colorbar\":{\"outlinewidth\":0,\"ticks\":\"\"},\"colorscale\":[[0.0,\"#0d0887\"],[0.1111111111111111,\"#46039f\"],[0.2222222222222222,\"#7201a8\"],[0.3333333333333333,\"#9c179e\"],[0.4444444444444444,\"#bd3786\"],[0.5555555555555556,\"#d8576b\"],[0.6666666666666666,\"#ed7953\"],[0.7777777777777778,\"#fb9f3a\"],[0.8888888888888888,\"#fdca26\"],[1.0,\"#f0f921\"]],\"type\":\"histogram2dcontour\"}],\"mesh3d\":[{\"colorbar\":{\"outlinewidth\":0,\"ticks\":\"\"},\"type\":\"mesh3d\"}],\"parcoords\":[{\"line\":{\"colorbar\":{\"outlinewidth\":0,\"ticks\":\"\"}},\"type\":\"parcoords\"}],\"pie\":[{\"automargin\":true,\"type\":\"pie\"}],\"scatter\":[{\"marker\":{\"colorbar\":{\"outlinewidth\":0,\"ticks\":\"\"}},\"type\":\"scatter\"}],\"scatter3d\":[{\"line\":{\"colorbar\":{\"outlinewidth\":0,\"ticks\":\"\"}},\"marker\":{\"colorbar\":{\"outlinewidth\":0,\"ticks\":\"\"}},\"type\":\"scatter3d\"}],\"scattercarpet\":[{\"marker\":{\"colorbar\":{\"outlinewidth\":0,\"ticks\":\"\"}},\"type\":\"scattercarpet\"}],\"scattergeo\":[{\"marker\":{\"colorbar\":{\"outlinewidth\":0,\"ticks\":\"\"}},\"type\":\"scattergeo\"}],\"scattergl\":[{\"marker\":{\"colorbar\":{\"outlinewidth\":0,\"ticks\":\"\"}},\"type\":\"scattergl\"}],\"scattermapbox\":[{\"marker\":{\"colorbar\":{\"outlinewidth\":0,\"ticks\":\"\"}},\"type\":\"scattermapbox\"}],\"scatterpolar\":[{\"marker\":{\"colorbar\":{\"outlinewidth\":0,\"ticks\":\"\"}},\"type\":\"scatterpolar\"}],\"scatterpolargl\":[{\"marker\":{\"colorbar\":{\"outlinewidth\":0,\"ticks\":\"\"}},\"type\":\"scatterpolargl\"}],\"scatterternary\":[{\"marker\":{\"colorbar\":{\"outlinewidth\":0,\"ticks\":\"\"}},\"type\":\"scatterternary\"}],\"surface\":[{\"colorbar\":{\"outlinewidth\":0,\"ticks\":\"\"},\"colorscale\":[[0.0,\"#0d0887\"],[0.1111111111111111,\"#46039f\"],[0.2222222222222222,\"#7201a8\"],[0.3333333333333333,\"#9c179e\"],[0.4444444444444444,\"#bd3786\"],[0.5555555555555556,\"#d8576b\"],[0.6666666666666666,\"#ed7953\"],[0.7777777777777778,\"#fb9f3a\"],[0.8888888888888888,\"#fdca26\"],[1.0,\"#f0f921\"]],\"type\":\"surface\"}],\"table\":[{\"cells\":{\"fill\":{\"color\":\"#EBF0F8\"},\"line\":{\"color\":\"white\"}},\"header\":{\"fill\":{\"color\":\"#C8D4E3\"},\"line\":{\"color\":\"white\"}},\"type\":\"table\"}]},\"layout\":{\"annotationdefaults\":{\"arrowcolor\":\"#2a3f5f\",\"arrowhead\":0,\"arrowwidth\":1},\"autotypenumbers\":\"strict\",\"coloraxis\":{\"colorbar\":{\"outlinewidth\":0,\"ticks\":\"\"}},\"colorscale\":{\"diverging\":[[0,\"#8e0152\"],[0.1,\"#c51b7d\"],[0.2,\"#de77ae\"],[0.3,\"#f1b6da\"],[0.4,\"#fde0ef\"],[0.5,\"#f7f7f7\"],[0.6,\"#e6f5d0\"],[0.7,\"#b8e186\"],[0.8,\"#7fbc41\"],[0.9,\"#4d9221\"],[1,\"#276419\"]],\"sequential\":[[0.0,\"#0d0887\"],[0.1111111111111111,\"#46039f\"],[0.2222222222222222,\"#7201a8\"],[0.3333333333333333,\"#9c179e\"],[0.4444444444444444,\"#bd3786\"],[0.5555555555555556,\"#d8576b\"],[0.6666666666666666,\"#ed7953\"],[0.7777777777777778,\"#fb9f3a\"],[0.8888888888888888,\"#fdca26\"],[1.0,\"#f0f921\"]],\"sequentialminus\":[[0.0,\"#0d0887\"],[0.1111111111111111,\"#46039f\"],[0.2222222222222222,\"#7201a8\"],[0.3333333333333333,\"#9c179e\"],[0.4444444444444444,\"#bd3786\"],[0.5555555555555556,\"#d8576b\"],[0.6666666666666666,\"#ed7953\"],[0.7777777777777778,\"#fb9f3a\"],[0.8888888888888888,\"#fdca26\"],[1.0,\"#f0f921\"]]},\"colorway\":[\"#636efa\",\"#EF553B\",\"#00cc96\",\"#ab63fa\",\"#FFA15A\",\"#19d3f3\",\"#FF6692\",\"#B6E880\",\"#FF97FF\",\"#FECB52\"],\"font\":{\"color\":\"#2a3f5f\"},\"geo\":{\"bgcolor\":\"white\",\"lakecolor\":\"white\",\"landcolor\":\"#E5ECF6\",\"showlakes\":true,\"showland\":true,\"subunitcolor\":\"white\"},\"hoverlabel\":{\"align\":\"left\"},\"hovermode\":\"closest\",\"mapbox\":{\"style\":\"light\"},\"paper_bgcolor\":\"white\",\"plot_bgcolor\":\"#E5ECF6\",\"polar\":{\"angularaxis\":{\"gridcolor\":\"white\",\"linecolor\":\"white\",\"ticks\":\"\"},\"bgcolor\":\"#E5ECF6\",\"radialaxis\":{\"gridcolor\":\"white\",\"linecolor\":\"white\",\"ticks\":\"\"}},\"scene\":{\"xaxis\":{\"backgroundcolor\":\"#E5ECF6\",\"gridcolor\":\"white\",\"gridwidth\":2,\"linecolor\":\"white\",\"showbackground\":true,\"ticks\":\"\",\"zerolinecolor\":\"white\"},\"yaxis\":{\"backgroundcolor\":\"#E5ECF6\",\"gridcolor\":\"white\",\"gridwidth\":2,\"linecolor\":\"white\",\"showbackground\":true,\"ticks\":\"\",\"zerolinecolor\":\"white\"},\"zaxis\":{\"backgroundcolor\":\"#E5ECF6\",\"gridcolor\":\"white\",\"gridwidth\":2,\"linecolor\":\"white\",\"showbackground\":true,\"ticks\":\"\",\"zerolinecolor\":\"white\"}},\"shapedefaults\":{\"line\":{\"color\":\"#2a3f5f\"}},\"ternary\":{\"aaxis\":{\"gridcolor\":\"white\",\"linecolor\":\"white\",\"ticks\":\"\"},\"baxis\":{\"gridcolor\":\"white\",\"linecolor\":\"white\",\"ticks\":\"\"},\"bgcolor\":\"#E5ECF6\",\"caxis\":{\"gridcolor\":\"white\",\"linecolor\":\"white\",\"ticks\":\"\"}},\"title\":{\"x\":0.05},\"xaxis\":{\"automargin\":true,\"gridcolor\":\"white\",\"linecolor\":\"white\",\"ticks\":\"\",\"title\":{\"standoff\":15},\"zerolinecolor\":\"white\",\"zerolinewidth\":2},\"yaxis\":{\"automargin\":true,\"gridcolor\":\"white\",\"linecolor\":\"white\",\"ticks\":\"\",\"title\":{\"standoff\":15},\"zerolinecolor\":\"white\",\"zerolinewidth\":2}}},\"title\":{\"text\":\"Loss Chart\"},\"width\":1024,\"xaxis\":{\"title\":{\"text\":\"Epochs\"}},\"yaxis\":{\"tickformat\":\".2f\",\"title\":{\"text\":\"Value\"}}},                        {\"responsive\": true}                    ).then(function(){\n",
       "                            \n",
       "var gd = document.getElementById('d9f0c329-1ef2-4f55-a548-39f1531f3ae4');\n",
       "var x = new MutationObserver(function (mutations, observer) {{\n",
       "        var display = window.getComputedStyle(gd).display;\n",
       "        if (!display || display === 'none') {{\n",
       "            console.log([gd, 'removed!']);\n",
       "            Plotly.purge(gd);\n",
       "            observer.disconnect();\n",
       "        }}\n",
       "}});\n",
       "\n",
       "// Listen for the removal of the full notebook cells\n",
       "var notebookContainer = gd.closest('#notebook-container');\n",
       "if (notebookContainer) {{\n",
       "    x.observe(notebookContainer, {childList: true});\n",
       "}}\n",
       "\n",
       "// Listen for the clearing of the current output cell\n",
       "var outputEl = gd.closest('.output');\n",
       "if (outputEl) {{\n",
       "    x.observe(outputEl, {childList: true});\n",
       "}}\n",
       "\n",
       "                        })                };                });            </script>        </div>"
      ]
     },
     "metadata": {},
     "output_type": "display_data"
    }
   ],
   "source": [
    "fig.show()"
   ]
  },
  {
   "cell_type": "code",
   "execution_count": null,
   "id": "71dfea2d",
   "metadata": {},
   "outputs": [],
   "source": []
  }
 ],
 "metadata": {
  "kernelspec": {
   "display_name": "Python 3",
   "language": "python",
   "name": "python3"
  },
  "language_info": {
   "codemirror_mode": {
    "name": "ipython",
    "version": 3
   },
   "file_extension": ".py",
   "mimetype": "text/x-python",
   "name": "python",
   "nbconvert_exporter": "python",
   "pygments_lexer": "ipython3",
   "version": "3.8.10"
  }
 },
 "nbformat": 4,
 "nbformat_minor": 5
}
